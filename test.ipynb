{
 "cells": [
  {
   "cell_type": "markdown",
   "metadata": {},
   "source": [
    "Hey, un pequeño tutorial en como conectarse\n",
    "\n",
    "2024-11-19 20:06:18 [I 2024-11-20 02:06:18.604 LabApp] Extension Manager is 'pypi'.\n",
    "2024-11-19 20:06:18 [I 2024-11-20 02:06:18.606 ServerApp] jupyterlab | extension was successfully loaded.\n",
    "2024-11-19 20:06:18 [I 2024-11-20 02:06:18.609 ServerApp] jupyterlab_git | extension was successfully loaded.\n",
    "2024-11-19 20:06:18 [I 2024-11-20 02:06:18.613 ServerApp] nbclassic | extension was successfully loaded.\n",
    "2024-11-19 20:06:18 [I 2024-11-20 02:06:18.670 ServerApp] nbdime | extension was successfully loaded.\n",
    "2024-11-19 20:06:18 [I 2024-11-20 02:06:18.672 ServerApp] notebook | extension was successfully loaded.\n",
    "2024-11-19 20:06:18 [I 2024-11-20 02:06:18.672 ServerApp] Serving notebooks from local directory: /home/jovyan\n",
    "2024-11-19 20:06:18 [I 2024-11-20 02:06:18.672 ServerApp] Jupyter Server 2.8.0 is running at:\n",
    "2024-11-19 20:06:18 [I 2024-11-20 02:06:18.673 ServerApp] http://3b233796100e:8888/lab?token=6c2c103b09de5ede89ba7efeafc354b1d1745cb9ec496ac5\n",
    "2024-11-19 20:06:18 [I 2024-11-20 02:06:18.673 ServerApp]     http://127.0.0.1:8888/lab?token=6c2c103b09de5ede89ba7efeafc354b1d1745cb9ec496ac5\n",
    "2024-11-19 20:06:18 [I 2024-11-20 02:06:18.673 ServerApp] Use Control-C to stop this server and shut down all kernels (twice to skip confirmation).\n",
    "2024-11-19 20:06:18 [C 2024-11-20 02:06:18.675 ServerApp] \n",
    "2024-11-19 20:06:18     \n",
    "2024-11-19 20:06:18     To access the server, open this file in a browser:\n",
    "2024-11-19 20:06:18         file:///home/jovyan/.local/share/jupyter/runtime/jpserver-7-open.html\n",
    "2024-11-19 20:06:18     Or copy and paste one of these URLs:\n",
    "2024-11-19 20:06:18         http://3b233796100e:8888/lab?token=6c2c103b09de5ede89ba7efeafc354b1d1745cb9ec496ac5\n",
    "2024-11-19 20:06:18         http://127.0.0.1:8888/lab?token=6c2c103b09de5ede89ba7efeafc354b1d1745cb9ec496ac5\n",
    "2024-11-19 20:06:20 [I 2024-11-20 02:06:20.006 ServerApp] Skipped non-installed server(s): bash-language-server, dockerfile-language-server-nodejs, javascript-typescript-langserver, jedi-language-server, julia-language-server, pyright, python-language-server, python-lsp-server, r-languageserver, sql-language-server, texlab, typescript-language-server, unified-language-server, vscode-css-languageserver-bin, vscode-html-languageserver-bin, vscode-json-languageserver-bin, yaml-language-server\n",
    "\n",
    "Se ve feo pero de esto es como se conecta al server\n",
    "\n",
    "http://127.0.0.1:8888/lab?token=6c2c103b09de5ede89ba7efeafc354b1d1745cb9ec496ac5\n",
    "\n",
    "http://127.0.0.1:8888/lab\n",
    "\n",
    "en este caso este es el token que genero, con esto es que uno conecta el vscode al jupyter solo por si acaso\n"
   ]
  },
  {
   "cell_type": "code",
   "execution_count": 1,
   "metadata": {},
   "outputs": [],
   "source": [
    "\n",
    "from pyspark.sql import SparkSession\n",
    "spark = SparkSession.builder.appName(\"SparkSQL\").master('local').getOrCreate()"
   ]
  },
  {
   "cell_type": "code",
   "execution_count": 19,
   "metadata": {},
   "outputs": [],
   "source": [
    "import os\n",
    "os.environ['PYSPARK_SUBMIT_ARGS'] = '--jars /home/jovyan/neo4j-connector-apache-spark_2.12-5.2.0_for_spark_3.jar pyspark-shell'"
   ]
  },
  {
   "cell_type": "code",
   "execution_count": null,
   "metadata": {},
   "outputs": [
    {
     "data": {
      "text/plain": [
       "{'status': 'ok', 'restart': True}"
      ]
     },
     "execution_count": 20,
     "metadata": {},
     "output_type": "execute_result"
    },
    {
     "ename": "",
     "evalue": "",
     "output_type": "error",
     "traceback": [
      "\u001b[1;31mThe Kernel crashed while executing code in the current cell or a previous cell. \n",
      "\u001b[1;31mPlease review the code in the cell(s) to identify a possible cause of the failure. \n",
      "\u001b[1;31mClick <a href='https://aka.ms/vscodeJupyterKernelCrash'>here</a> for more info. \n",
      "\u001b[1;31mView Jupyter <a href='command:jupyter.viewOutput'>log</a> for further details."
     ]
    }
   ],
   "source": [
    "import IPython\n",
    "IPython.Application.instance().kernel.do_shutdown(True)"
   ]
  },
  {
   "cell_type": "code",
   "execution_count": 2,
   "metadata": {},
   "outputs": [
    {
     "name": "stdout",
     "output_type": "stream",
     "text": [
      "+---+----+---+\n",
      "| id|name|age|\n",
      "+---+----+---+\n",
      "|  1|   a|111|\n",
      "|  2|   b|222|\n",
      "|  3|   c|333|\n",
      "+---+----+---+\n",
      "\n"
     ]
    }
   ],
   "source": [
    "data1 = [(1, 'a', 111), (2, 'b', 222), (3, 'c', 333)]\n",
    "columns = ['id', 'name', 'age']\n",
    "cdf = spark.createDataFrame(data1, columns)\n",
    "cdf.show()"
   ]
  },
  {
   "cell_type": "code",
   "execution_count": 4,
   "metadata": {},
   "outputs": [
    {
     "name": "stdout",
     "output_type": "stream",
     "text": [
      "+----+---------+------------+------------+----------+-------------+--------------+\n",
      "|<id>|<labels> |product_size|product_line|product_id|product_class|product_brand |\n",
      "+----+---------+------------+------------+----------+-------------+--------------+\n",
      "|4001|[Product]|product_size|product_line|product_id|product_class|brand         |\n",
      "|4002|[Product]|medium      |Standard    |2         |medium       |Solex         |\n",
      "|4003|[Product]|large       |Standard    |3         |medium       |Trek Bicycles |\n",
      "|4004|[Product]|medium      |Standard    |37        |low          |OHM Cycles    |\n",
      "|4005|[Product]|medium      |Standard    |88        |medium       |Norco Bicycles|\n",
      "|4006|[Product]|large       |Standard    |78        |medium       |Giant Bicycles|\n",
      "|4007|[Product]|medium      |Road        |25        |medium       |Giant Bicycles|\n",
      "|4008|[Product]|medium      |Standard    |22        |medium       |WeareA2B      |\n",
      "|4009|[Product]|medium      |Standard    |15        |medium       |WeareA2B      |\n",
      "|4010|[Product]|large       |Standard    |67        |medium       |Solex         |\n",
      "|4011|[Product]|medium      |Standard    |12        |medium       |WeareA2B      |\n",
      "|4012|[Product]|medium      |Mountain    |5         |low          |Trek Bicycles |\n",
      "|4013|[Product]|medium      |Standard    |61        |low          |OHM Cycles    |\n",
      "|4014|[Product]|medium      |Standard    |35        |low          |Trek Bicycles |\n",
      "|4015|[Product]|small       |Standard    |16        |high         |Norco Bicycles|\n",
      "|4016|[Product]|medium      |Standard    |79        |medium       |Norco Bicycles|\n",
      "|4017|[Product]|small       |Standard    |33        |medium       |Giant Bicycles|\n",
      "|4018|[Product]|medium      |Standard    |54        |medium       |WeareA2B      |\n",
      "|4019|[Product]|medium      |Standard    |27        |medium       |Trek Bicycles |\n",
      "|4020|[Product]|medium      |Road        |82        |medium       |Giant Bicycles|\n",
      "|4021|[Product]|large       |Touring     |89        |medium       |WeareA2B      |\n",
      "|4022|[Product]|large       |Standard    |64        |medium       |Trek Bicycles |\n",
      "|4023|[Product]|medium      |Mountain    |19        |low          |Trek Bicycles |\n",
      "|4024|[Product]|medium      |Standard    |72        |medium       |Norco Bicycles|\n",
      "|4025|[Product]|medium      |Standard    |91        |low          |WeareA2B      |\n",
      "|4026|[Product]|medium      |Standard    |1         |medium       |Giant Bicycles|\n",
      "|4027|[Product]|small       |Road        |99        |low          |Trek Bicycles |\n",
      "|4028|[Product]|medium      |Road        |0         |medium       |Norco Bicycles|\n",
      "|4029|[Product]|small       |Standard    |92        |medium       |WeareA2B      |\n",
      "|4030|[Product]|large       |Standard    |14        |high         |Solex         |\n",
      "|4031|[Product]|medium      |Standard    |44        |medium       |WeareA2B      |\n",
      "|4032|[Product]|medium      |Standard    |76        |low          |WeareA2B      |\n",
      "|4033|[Product]|medium      |Standard    |46        |low          |Solex         |\n",
      "|4034|[Product]|large       |Road        |55        |medium       |Trek Bicycles |\n",
      "|4035|[Product]|medium      |Standard    |66        |medium       |Solex         |\n",
      "|4036|[Product]|medium      |Standard    |81        |medium       |Solex         |\n",
      "|4037|[Product]|medium      |Standard    |86        |medium       |OHM Cycles    |\n",
      "|4038|[Product]|medium      |Standard    |32        |medium       |Giant Bicycles|\n",
      "|4039|[Product]|large       |Road        |77        |medium       |Norco Bicycles|\n",
      "|4040|[Product]|large       |Standard    |96        |medium       |Giant Bicycles|\n",
      "|4041|[Product]|medium      |Standard    |6         |high         |OHM Cycles    |\n",
      "|4042|[Product]|small       |Road        |47        |low          |Trek Bicycles |\n",
      "|4043|[Product]|large       |Standard    |94        |medium       |Giant Bicycles|\n",
      "|4044|[Product]|medium      |Standard    |93        |high         |OHM Cycles    |\n",
      "|4045|[Product]|small       |Standard    |60        |high         |Giant Bicycles|\n",
      "|4046|[Product]|small       |Standard    |28        |medium       |Norco Bicycles|\n",
      "|4047|[Product]|medium      |Standard    |4         |high         |Giant Bicycles|\n",
      "|4048|[Product]|large       |Standard    |38        |medium       |Trek Bicycles |\n",
      "|4049|[Product]|medium      |Standard    |56        |medium       |OHM Cycles    |\n",
      "|4050|[Product]|medium      |Standard    |58        |medium       |OHM Cycles    |\n",
      "|4051|[Product]|small       |Standard    |50        |medium       |WeareA2B      |\n",
      "|4052|[Product]|medium      |Touring     |80        |low          |OHM Cycles    |\n",
      "|4053|[Product]|medium      |Standard    |87        |high         |Giant Bicycles|\n",
      "|4054|[Product]|medium      |Road        |84        |medium       |Giant Bicycles|\n",
      "|4055|[Product]|large       |Standard    |21        |medium       |Solex         |\n",
      "|4056|[Product]|medium      |Standard    |31        |medium       |WeareA2B      |\n",
      "|4057|[Product]|medium      |Standard    |62        |medium       |Solex         |\n",
      "|4058|[Product]|medium      |Standard    |17        |high         |Solex         |\n",
      "|4059|[Product]|medium      |Standard    |73        |medium       |Solex         |\n",
      "|4060|[Product]|medium      |Standard    |45        |medium       |Solex         |\n",
      "|4061|[Product]|medium      |Road        |49        |medium       |Trek Bicycles |\n",
      "|4062|[Product]|large       |Standard    |95        |medium       |Giant Bicycles|\n",
      "|4063|[Product]|medium      |Standard    |18        |high         |Norco Bicycles|\n",
      "|4064|[Product]|medium      |Standard    |70        |high         |Trek Bicycles |\n",
      "|4065|[Product]|medium      |Standard    |26        |medium       |WeareA2B      |\n",
      "|4066|[Product]|large       |Standard    |39        |medium       |Giant Bicycles|\n",
      "|4067|[Product]|medium      |Standard    |36        |low          |Solex         |\n",
      "|4068|[Product]|medium      |Standard    |98        |high         |Trek Bicycles |\n",
      "|4069|[Product]|large       |Touring     |75        |medium       |Giant Bicycles|\n",
      "|4070|[Product]|small       |Road        |42        |medium       |OHM Cycles    |\n",
      "|4071|[Product]|small       |Standard    |20        |medium       |Trek Bicycles |\n",
      "|4072|[Product]|large       |Road        |24        |medium       |Solex         |\n",
      "|4073|[Product]|medium      |Standard    |53        |medium       |OHM Cycles    |\n",
      "|4074|[Product]|medium      |Standard    |65        |medium       |WeareA2B      |\n",
      "|4075|[Product]|medium      |Standard    |29        |medium       |WeareA2B      |\n",
      "|4076|[Product]|medium      |Standard    |11        |high         |Giant Bicycles|\n",
      "|4077|[Product]|medium      |Standard    |10        |medium       |Solex         |\n",
      "|4078|[Product]|medium      |Road        |7         |low          |Trek Bicycles |\n",
      "|4079|[Product]|medium      |Road        |41        |medium       |Solex         |\n",
      "|4080|[Product]|medium      |Road        |9         |medium       |OHM Cycles    |\n",
      "|4081|[Product]|medium      |Road        |69        |medium       |Giant Bicycles|\n",
      "|4082|[Product]|medium      |Standard    |90        |low          |Norco Bicycles|\n",
      "|4083|[Product]|large       |Standard    |97        |medium       |Solex         |\n",
      "|4084|[Product]|medium      |Road        |100       |medium       |Norco Bicycles|\n",
      "|4085|[Product]|medium      |Standard    |74        |medium       |WeareA2B      |\n",
      "|4086|[Product]|large       |Standard    |71        |high         |Solex         |\n",
      "|4087|[Product]|large       |Road        |34        |high         |Norco Bicycles|\n",
      "|4088|[Product]|large       |Touring     |57        |medium       |WeareA2B      |\n",
      "|4089|[Product]|small       |Mountain    |23        |low          |Norco Bicycles|\n",
      "|4090|[Product]|medium      |Standard    |51        |high         |OHM Cycles    |\n",
      "|4091|[Product]|small       |Standard    |59        |medium       |WeareA2B      |\n",
      "|4092|[Product]|medium      |Standard    |63        |medium       |Solex         |\n",
      "|4093|[Product]|medium      |Standard    |40        |high         |OHM Cycles    |\n",
      "|4094|[Product]|small       |Road        |8         |medium       |Solex         |\n",
      "|4095|[Product]|medium      |Standard    |13        |medium       |Solex         |\n",
      "|4096|[Product]|medium      |Standard    |30        |high         |Solex         |\n",
      "|4097|[Product]|medium      |Standard    |48        |medium       |WeareA2B      |\n",
      "|4098|[Product]|medium      |Standard    |68        |medium       |OHM Cycles    |\n",
      "|4099|[Product]|large       |Touring     |83        |medium       |Solex         |\n",
      "|4100|[Product]|medium      |Standard    |43        |medium       |Solex         |\n",
      "|4101|[Product]|medium      |Road        |52        |medium       |OHM Cycles    |\n",
      "|4102|[Product]|medium      |Standard    |85        |medium       |WeareA2B      |\n",
      "+----+---------+------------+------------+----------+-------------+--------------+\n",
      "\n"
     ]
    }
   ],
   "source": [
    "from pyspark.sql import SparkSession\n",
    "\n",
    "# Replace with the actual connection URI and credentials\n",
    "url = \"bolt://neo4j:7687\"\n",
    "username = \"neo4j\"\n",
    "password = \"password\"\n",
    "dbname = \"neo4j\"\n",
    "\n",
    "spark = (\n",
    "    SparkSession.builder.appName(\"Neo4jIntegration\")\n",
    "    .config(\"spark.jars\", \"/home/jovyan/neo4j-connector-apache-spark_2.12-5.2.0_for_spark_3.jar\")\n",
    "    .config(\"spark.neo4j.bolt.url\", url)\n",
    "    .config(\"spark.neo4j.bolt.user\", username)\n",
    "    .config(\"spark.neo4j.bolt.password\", password)\n",
    "    .config(\"spark.neo4j.database\", dbname)\n",
    "    .getOrCreate()\n",
    ")\n",
    "\n",
    "ds = (\n",
    "    spark.read.format(\"org.neo4j.spark.DataSource\")\n",
    "    .option(\"url\", url)\n",
    "    .option(\"authentication.basic.username\", username)\n",
    "    .option(\"authentication.basic.password\", password)\n",
    "    .option(\"labels\", \"Product\")\n",
    "    .load()\n",
    ")\n",
    "\n",
    "ds.show(n=1000, truncate=False)"
   ]
  },
  {
   "cell_type": "markdown",
   "metadata": {},
   "source": []
  }
 ],
 "metadata": {
  "kernelspec": {
   "display_name": "Python 3 (ipykernel)",
   "language": "python",
   "name": "python3"
  },
  "language_info": {
   "codemirror_mode": {
    "name": "ipython",
    "version": 3
   },
   "file_extension": ".py",
   "mimetype": "text/x-python",
   "name": "python",
   "nbconvert_exporter": "python",
   "pygments_lexer": "ipython3",
   "version": "3.11.6"
  }
 },
 "nbformat": 4,
 "nbformat_minor": 2
}
